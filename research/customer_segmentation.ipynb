{
 "cells": [
  {
   "cell_type": "code",
   "execution_count": null,
   "metadata": {},
   "outputs": [],
   "source": []
  }
 ],
 "metadata": {
  "kernelspec": {
   "display_name": "Python 3.8.18 ('Customer_segmentation')",
   "language": "python",
   "name": "python3"
  },
  "language_info": {
   "name": "python",
   "version": "3.8.18"
  },
  "orig_nbformat": 4,
  "vscode": {
   "interpreter": {
    "hash": "4a721d6a72ca39569a5813584690d8bfb4dae797901baa71cb4b70265f3859e3"
   }
  }
 },
 "nbformat": 4,
 "nbformat_minor": 2
}
